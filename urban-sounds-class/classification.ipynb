{
 "cells": [
  {
   "cell_type": "code",
   "execution_count": 25,
   "metadata": {},
   "outputs": [],
   "source": [
    "import pandas as pd\n",
    "import numpy as np\n",
    "import matplotlib.pyplot as plt\n",
    "import os\n",
    "import seaborn as sns\n",
    "import cv2\n",
    "import random\n",
    "import tensorflow as tf\n",
    "from sklearn.model_selection import train_test_split\n",
    "from keras_preprocessing.image import load_img"
   ]
  },
  {
   "cell_type": "code",
   "execution_count": 26,
   "metadata": {},
   "outputs": [],
   "source": [
    "label = []\n",
    "input_path = []\n",
    "drive_path = []\n",
    "dir = \"S:\\Downloads\\spectrograms-20221003T124515Z-001\\spectrograms\"\n",
    "drive_dir = \"/content/drive/MyDrive/Colab Notebooks/spectrograms-20221003T124515Z-001/spectrograms\"\n",
    "\n",
    "\n",
    "for class_name in os.listdir(dir):\n",
    "    for path in os.listdir(dir+\"/\"+class_name):\n",
    "        if class_name == \"0\":\n",
    "            label.append(\"air conditioner\")\n",
    "        elif class_name == \"1\":\n",
    "            label.append(\"car horn\")\n",
    "        elif class_name == \"2\":\n",
    "            label.append(\"children playing\")\n",
    "        elif class_name == \"3\":\n",
    "            label.append(\"dog bark\")\n",
    "        elif class_name == \"4\":\n",
    "            label.append(\"drilling\")\n",
    "        elif class_name == \"5\":\n",
    "            label.append(\"engine idling\")\n",
    "        elif class_name == \"6\":\n",
    "            label.append(\"gun shot\")\n",
    "        elif class_name == \"7\":\n",
    "            label.append(\"jackhammer\")\n",
    "        elif class_name == \"8\":\n",
    "            label.append(\"siren\")\n",
    "        else:\n",
    "            label.append(\"street music\")\n",
    "        input_path.append(os.path.join(dir,class_name,path))\n",
    "        drive_path.append(os.path.join(drive_dir,class_name,path))"
   ]
  },
  {
   "cell_type": "code",
   "execution_count": 27,
   "metadata": {},
   "outputs": [
    {
     "data": {
      "text/html": [
       "<div>\n",
       "<style scoped>\n",
       "    .dataframe tbody tr th:only-of-type {\n",
       "        vertical-align: middle;\n",
       "    }\n",
       "\n",
       "    .dataframe tbody tr th {\n",
       "        vertical-align: top;\n",
       "    }\n",
       "\n",
       "    .dataframe thead th {\n",
       "        text-align: right;\n",
       "    }\n",
       "</style>\n",
       "<table border=\"1\" class=\"dataframe\">\n",
       "  <thead>\n",
       "    <tr style=\"text-align: right;\">\n",
       "      <th></th>\n",
       "      <th>input_path</th>\n",
       "      <th>drive_path</th>\n",
       "      <th>labels</th>\n",
       "    </tr>\n",
       "  </thead>\n",
       "  <tbody>\n",
       "    <tr>\n",
       "      <th>0</th>\n",
       "      <td>S:\\Downloads\\spectrograms-20221003T124515Z-001...</td>\n",
       "      <td>/content/drive/MyDrive/Colab Notebooks/spectro...</td>\n",
       "      <td>street music</td>\n",
       "    </tr>\n",
       "    <tr>\n",
       "      <th>1</th>\n",
       "      <td>S:\\Downloads\\spectrograms-20221003T124515Z-001...</td>\n",
       "      <td>/content/drive/MyDrive/Colab Notebooks/spectro...</td>\n",
       "      <td>air conditioner</td>\n",
       "    </tr>\n",
       "    <tr>\n",
       "      <th>2</th>\n",
       "      <td>S:\\Downloads\\spectrograms-20221003T124515Z-001...</td>\n",
       "      <td>/content/drive/MyDrive/Colab Notebooks/spectro...</td>\n",
       "      <td>dog bark</td>\n",
       "    </tr>\n",
       "    <tr>\n",
       "      <th>3</th>\n",
       "      <td>S:\\Downloads\\spectrograms-20221003T124515Z-001...</td>\n",
       "      <td>/content/drive/MyDrive/Colab Notebooks/spectro...</td>\n",
       "      <td>jackhammer</td>\n",
       "    </tr>\n",
       "    <tr>\n",
       "      <th>4</th>\n",
       "      <td>S:\\Downloads\\spectrograms-20221003T124515Z-001...</td>\n",
       "      <td>/content/drive/MyDrive/Colab Notebooks/spectro...</td>\n",
       "      <td>drilling</td>\n",
       "    </tr>\n",
       "  </tbody>\n",
       "</table>\n",
       "</div>"
      ],
      "text/plain": [
       "                                          input_path  \\\n",
       "0  S:\\Downloads\\spectrograms-20221003T124515Z-001...   \n",
       "1  S:\\Downloads\\spectrograms-20221003T124515Z-001...   \n",
       "2  S:\\Downloads\\spectrograms-20221003T124515Z-001...   \n",
       "3  S:\\Downloads\\spectrograms-20221003T124515Z-001...   \n",
       "4  S:\\Downloads\\spectrograms-20221003T124515Z-001...   \n",
       "\n",
       "                                          drive_path           labels  \n",
       "0  /content/drive/MyDrive/Colab Notebooks/spectro...     street music  \n",
       "1  /content/drive/MyDrive/Colab Notebooks/spectro...  air conditioner  \n",
       "2  /content/drive/MyDrive/Colab Notebooks/spectro...         dog bark  \n",
       "3  /content/drive/MyDrive/Colab Notebooks/spectro...       jackhammer  \n",
       "4  /content/drive/MyDrive/Colab Notebooks/spectro...         drilling  "
      ]
     },
     "execution_count": 27,
     "metadata": {},
     "output_type": "execute_result"
    }
   ],
   "source": [
    "df = pd.DataFrame()\n",
    "df['input_path'] = input_path\n",
    "df['drive_path'] = drive_path\n",
    "df[\"labels\"] = label\n",
    "df = df.sample(frac=1).reset_index(drop=True)\n",
    "df.head()"
   ]
  },
  {
   "cell_type": "code",
   "execution_count": 28,
   "metadata": {},
   "outputs": [
    {
     "name": "stdout",
     "output_type": "stream",
     "text": [
      "6985\n",
      "1747\n"
     ]
    }
   ],
   "source": [
    "train, test = train_test_split(df, train_size = 0.8, random_state=42)\n",
    "print(len(train))\n",
    "print(len(test))"
   ]
  },
  {
   "cell_type": "code",
   "execution_count": 29,
   "metadata": {},
   "outputs": [],
   "source": [
    "from keras.preprocessing.image import ImageDataGenerator\n",
    "train_generator = ImageDataGenerator(\n",
    "        rescale=1./255,\n",
    "        rotation_range=40,\n",
    "        shear_range=0.2,\n",
    "        zoom_range=0.2,\n",
    "        horizontal_flip=True,\n",
    "        fill_mode = \"nearest\"\n",
    ")"
   ]
  },
  {
   "cell_type": "code",
   "execution_count": 30,
   "metadata": {},
   "outputs": [],
   "source": [
    "val_generator = ImageDataGenerator(rescale= 1./255)"
   ]
  },
  {
   "cell_type": "code",
   "execution_count": 31,
   "metadata": {},
   "outputs": [
    {
     "name": "stdout",
     "output_type": "stream",
     "text": [
      "Found 6985 validated image filenames belonging to 10 classes.\n"
     ]
    }
   ],
   "source": [
    "train_iterator = train_generator.flow_from_dataframe(\n",
    "    train,\n",
    "    x_col=\"input_path\",\n",
    "    y_col=\"labels\",\n",
    "    target_size=(128,128),\n",
    "    batch_size = 512,\n",
    "    class_mode = \"categorical\"\n",
    ")"
   ]
  },
  {
   "cell_type": "code",
   "execution_count": 32,
   "metadata": {},
   "outputs": [
    {
     "name": "stdout",
     "output_type": "stream",
     "text": [
      "Found 1747 validated image filenames belonging to 10 classes.\n"
     ]
    }
   ],
   "source": [
    "val_iterator = val_generator.flow_from_dataframe(\n",
    "    test,\n",
    "    x_col=\"input_path\",\n",
    "    y_col=\"labels\",\n",
    "    target_size=(128,128),\n",
    "    batch_size = 512,\n",
    "    class_mode = \"categorical\"\n",
    ")"
   ]
  },
  {
   "cell_type": "code",
   "execution_count": 37,
   "metadata": {},
   "outputs": [],
   "source": [
    "model=tf.keras.Sequential()\n",
    "model.add(tf.keras.layers.Conv2D(32,kernel_size=5,strides=1,padding=\"Same\",activation=\"relu\",input_shape=(128,128,3)))\n",
    "model.add(tf.keras.layers.MaxPooling2D(padding=\"same\"))\n",
    "\n",
    "model.add(tf.keras.layers.Conv2D(64,kernel_size=5,strides=1,padding=\"same\",activation=\"relu\"))\n",
    "model.add(tf.keras.layers.MaxPooling2D(padding=\"same\"))\n",
    "model.add(tf.keras.layers.Dropout(0.3))\n",
    "\n",
    "model.add(tf.keras.layers.Flatten())\n",
    "\n",
    "model.add(tf.keras.layers.Dense(128,activation=\"relu\"))\n",
    "model.add(tf.keras.layers.Dropout(0.3))\n",
    "\n",
    "model.add(tf.keras.layers.Dense(256,activation=\"relu\"))\n",
    "model.add(tf.keras.layers.Dropout(0.3))\n",
    "\n",
    "model.add(tf.keras.layers.Dense(10,activation=\"softmax\"))\n",
    "model.compile(optimizer=\"adam\",loss=\"categorical_crossentropy\",metrics=[\"accuracy\"])"
   ]
  },
  {
   "cell_type": "code",
   "execution_count": null,
   "metadata": {},
   "outputs": [],
   "source": [
    "model.summary()"
   ]
  },
  {
   "cell_type": "code",
   "execution_count": 38,
   "metadata": {},
   "outputs": [
    {
     "name": "stdout",
     "output_type": "stream",
     "text": [
      "Epoch 1/5\n",
      "14/14 [==============================] - 109s 8s/step - loss: 2.1599 - accuracy: 0.1994 - val_loss: 1.8994 - val_accuracy: 0.2971\n",
      "Epoch 2/5\n",
      "14/14 [==============================] - 117s 8s/step - loss: 1.8766 - accuracy: 0.3039 - val_loss: 1.6281 - val_accuracy: 0.3932\n",
      "Epoch 3/5\n",
      "14/14 [==============================] - 121s 9s/step - loss: 1.6708 - accuracy: 0.3810 - val_loss: 1.4147 - val_accuracy: 0.4848\n",
      "Epoch 4/5\n",
      "14/14 [==============================] - 140s 10s/step - loss: 1.5077 - accuracy: 0.4414 - val_loss: 1.2842 - val_accuracy: 0.5381\n",
      "Epoch 5/5\n",
      "14/14 [==============================] - 166s 12s/step - loss: 1.3993 - accuracy: 0.4898 - val_loss: 1.2293 - val_accuracy: 0.5610\n"
     ]
    }
   ],
   "source": [
    "history = model.fit(train_iterator, epochs=5, validation_data=val_iterator)"
   ]
  },
  {
   "cell_type": "code",
   "execution_count": 41,
   "metadata": {},
   "outputs": [
    {
     "data": {
      "text/plain": [
       "<Figure size 640x480 with 0 Axes>"
      ]
     },
     "execution_count": 41,
     "metadata": {},
     "output_type": "execute_result"
    },
    {
     "data": {
      "image/png": "[encoded data removed]",
      "text/plain": [
       "<Figure size 640x480 with 1 Axes>"
      ]
     },
     "metadata": {},
     "output_type": "display_data"
    },
    {
     "data": {
      "text/plain": [
       "<Figure size 640x480 with 0 Axes>"
      ]
     },
     "metadata": {},
     "output_type": "display_data"
    }
   ],
   "source": [
    "accuracy = history.history[\"accuracy\"]\n",
    "val_accuracy = history.history[\"val_accuracy\"]\n",
    "epochs=range(len(accuracy))\n",
    "\n",
    "plt.plot(epochs, accuracy, \"b\", label=\"Training Acc\")\n",
    "plt.plot(epochs, val_accuracy, \"r\", label=\"Validation Acc\")\n",
    "plt.plot(history.history[\"loss\"], label = \"loss\")\n",
    "plt.plot(history.history[\"val_loss\"], label = \"val_loss\")\n",
    "\n",
    "plt.legend()\n",
    "plt.figure()"
   ]
  }
 ],
 "metadata": {
  "kernelspec": {
   "display_name": "Python 3.10.4 64-bit",
   "language": "python",
   "name": "python3"
  },
  "language_info": {
   "codemirror_mode": {
    "name": "ipython",
    "version": 3
   },
   "file_extension": ".py",
   "mimetype": "text/x-python",
   "name": "python",
   "nbconvert_exporter": "python",
   "pygments_lexer": "ipython3",
   "version": "3.10.4"
  },
  "orig_nbformat": 4,
  "vscode": {
   "interpreter": {
    "hash": "4e0347718afc69be7b1c23768afdbedb062dd9a48333758dd9b559c5248491fc"
   }
  }
 },
 "nbformat": 4,
 "nbformat_minor": 2
}
