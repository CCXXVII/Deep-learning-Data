{
  "cells": [
    {
      "cell_type": "markdown",
      "metadata": {
        "id": "VMuUK0ap_bRD"
      },
      "source": [
        "# Chapter 1\n",
        "### Your first day at your new job 👩‍💻👨‍💻\n",
        "\n",
        "You are starting a new job as a junior software developer in an IT company. \n",
        "\n",
        "The company’s HR department asks you to fill out a form, so you start by assigning your personal information to corresponding variables.\n",
        "\n",
        "📌 Create a variable for your name, surname, age, ID number, place of residence, to specify if you have active health insurance or not, and lastly one for specifying your nationality.\n"
      ]
    },
    {
      "cell_type": "code",
      "execution_count": 39,
      "metadata": {
        "id": "OPLhhc2Sp-D0"
      },
      "outputs": [],
      "source": [
        "#Please assign your personal information to variables\n",
        "my_name = \"Enes\"\n",
        "my_surname = \"Dertli\"\n",
        "my_age = 22\n",
        "ID_number = 227\n",
        "where_i_live = \"Mugla\"\n",
        "health_insurance = True\n",
        "my_nationality = \"Turkish\""
      ]
    },
    {
      "cell_type": "markdown",
      "metadata": {
        "id": "3zaUlxwcp-D0"
      },
      "source": [
        "###Meet And Greet\n",
        "Introduce yourself to your new co-workers.\n",
        "\n",
        "📌 Use a f-string to print \"My name is Joey Tribbiani I am 25 years old and I live in London”."
      ]
    },
    {
      "cell_type": "code",
      "execution_count": 40,
      "metadata": {
        "id": "XNuh5_2WXwvg"
      },
      "outputs": [
        {
          "name": "stdout",
          "output_type": "stream",
          "text": [
            "My name is Enes Dertli. I am 22 years old. I live in Mugla\n"
          ]
        }
      ],
      "source": [
        "#Write a sentence using the print function to describe yourself using the variables above in the correct data type\n",
        "print(f\"My name is {my_name} {my_surname}. I am {str(my_age)} years old. I live in {where_i_live}\")"
      ]
    },
    {
      "cell_type": "markdown",
      "metadata": {
        "id": "EEL9To4ip-D1"
      },
      "source": [
        "### Equipment starter pack\n",
        "The HR department asks you to list the items you would need to improve your work efficiency\n",
        "\n",
        "Mandatory:\n",
        "* Laptop\n",
        "* Headset\n",
        "* Second monitor\n",
        "\n",
        "Optional:\n",
        "* Mousepad\n",
        "* USB drive\n",
        "* External drive\n",
        "\n",
        "\n",
        "📌 Create a shopping list that contains items above and print it."
      ]
    },
    {
      "cell_type": "code",
      "execution_count": 41,
      "metadata": {
        "id": "fPFBLDyqp-D2"
      },
      "outputs": [],
      "source": [
        "#Create the item_list\n",
        "item_list = [\"Laptop\", \"Headset\", \"Second monitor\", \"Mousepad\", \"USB drive\", \"External drive\"]"
      ]
    },
    {
      "cell_type": "code",
      "execution_count": 42,
      "metadata": {
        "id": "358R_CN5U2-J"
      },
      "outputs": [
        {
          "name": "stdout",
          "output_type": "stream",
          "text": [
            "['Laptop', 'Headset', 'Second monitor', 'Mousepad', 'USB drive', 'External drive']\n"
          ]
        }
      ],
      "source": [
        "#Print the list\n",
        "print(item_list)"
      ]
    },
    {
      "cell_type": "markdown",
      "metadata": {
        "id": "5keEWjCyp-D2"
      },
      "source": [
        "####What is mandatory and what is optional?\n",
        "\n",
        "📌 Use list slicing to devide your list in two list: 'mandatory_item_list' and 'optional_item_list' and print both to the screen."
      ]
    },
    {
      "cell_type": "code",
      "execution_count": 43,
      "metadata": {
        "id": "E6ewuDYZp-D2"
      },
      "outputs": [],
      "source": [
        "#Use list slicing to divide the mandatory items\n",
        "mandatory_item_list = item_list[0:3]"
      ]
    },
    {
      "cell_type": "code",
      "execution_count": 44,
      "metadata": {
        "id": "hOmkym01RGEL"
      },
      "outputs": [],
      "source": [
        "#Use list slicing to divide the optional items\n",
        "optional_item_list = item_list[3:]"
      ]
    },
    {
      "cell_type": "code",
      "execution_count": 45,
      "metadata": {},
      "outputs": [
        {
          "name": "stdout",
          "output_type": "stream",
          "text": [
            "['Laptop', 'Headset', 'Second monitor']\n"
          ]
        }
      ],
      "source": [
        "print(mandatory_item_list)\n"
      ]
    },
    {
      "cell_type": "code",
      "execution_count": 46,
      "metadata": {},
      "outputs": [
        {
          "name": "stdout",
          "output_type": "stream",
          "text": [
            "['Mousepad', 'USB drive', 'External drive']\n"
          ]
        }
      ],
      "source": [
        "print(optional_item_list)"
      ]
    },
    {
      "cell_type": "code",
      "execution_count": 47,
      "metadata": {
        "id": "xsVv1_msVE1_"
      },
      "outputs": [
        {
          "name": "stdout",
          "output_type": "stream",
          "text": [
            "Mandatory items: ['Laptop', 'Headset', 'Second monitor']\n",
            "Optional items: ['Mousepad', 'USB drive', 'External drive']\n"
          ]
        }
      ],
      "source": [
        "#Print both to the screen\n",
        "print(f\"Mandatory items: {mandatory_item_list}\")\n",
        "print(f\"Optional items: {optional_item_list}\")"
      ]
    },
    {
      "cell_type": "markdown",
      "metadata": {
        "id": "s_M1Q93wp-D3"
      },
      "source": [
        "#### Go Shopping\n",
        "Next, you will have to go and purchase these items, the finance department confirmed a budget of $5000.\n",
        "\n",
        "📌 Assign 5000 to a variable called limit, so you know how much you can spend."
      ]
    },
    {
      "cell_type": "code",
      "execution_count": 48,
      "metadata": {
        "id": "nCmpm0oqp-D3"
      },
      "outputs": [],
      "source": [
        "#Assign the spending limit value to a variable called limit\n",
        "limit = 5000"
      ]
    },
    {
      "cell_type": "markdown",
      "metadata": {
        "id": "VwbEEymVp-D3"
      },
      "source": [
        "####Price dictionary\n",
        "\n",
        "Before you start shopping yo need to find the best items that you can buy within the company budget. \n",
        "\n",
        "📌 Prepare a dictionary called “price_sheet” that includes the items as keys and the prices as values.  \n",
        " "
      ]
    },
    {
      "cell_type": "code",
      "execution_count": 49,
      "metadata": {
        "id": "9o9n9Ag-p-D3"
      },
      "outputs": [],
      "source": [
        "#Create a dictionary that contains each item and its price\n",
        "\n",
        "price_sheet = {\n",
        "    \"Laptop\" : 1500,\n",
        "    \"Headset\" : 100,\n",
        "    \"Second monitor\" : 200,\n",
        "    \"Mousepad\" : 50,\n",
        "    \"USB drive\" : 70,\n",
        "    \"External drive\" : 250\n",
        "}"
      ]
    },
    {
      "cell_type": "markdown",
      "metadata": {
        "id": "rUYivBVEBhCv"
      },
      "source": [
        "####Shopping functions\n",
        "\n",
        "You need to define three functions that will help you during shopping.\n",
        "\n",
        "📌 First, create an empty list that  will be your shopping cart. Here you will add the items you need to purchase.\n",
        "\n",
        "1. Define a function for both adding items to the cart and removing them from the item_list.\n",
        "\n",
        "📌 The \"add_to_cart\" function should take the item name and the quantity to buy as an argument. \n",
        "\n",
        "2. Define a function that will create an invoice. \n",
        "\n",
        "📌 The \"create_invoice\" function should calculate the taxes of each item (18%) and add it to the total amount.\n",
        "\n",
        "3. Define a function for the checkout. \n",
        "\n",
        "📌 The \"checkout\" function should subtract the total amount from the budget and print a statement to inform if the payment was successful. "
      ]
    },
    {
      "cell_type": "code",
      "execution_count": 50,
      "metadata": {
        "id": "dBNZ2ZdkGHUe"
      },
      "outputs": [],
      "source": [
        "#Initialize the cart list\n",
        "cart = []"
      ]
    },
    {
      "cell_type": "code",
      "execution_count": 51,
      "metadata": {
        "id": "HH26hHHFGKPJ"
      },
      "outputs": [],
      "source": [
        "#Define the \"add_to_cart\" function\n",
        "def add_to_cart(item, quantity):\n",
        "    cart.append((item, quantity))\n",
        "    item_list.remove(item)"
      ]
    },
    {
      "cell_type": "code",
      "execution_count": 52,
      "metadata": {
        "id": "TUmNr4xVGQdm"
      },
      "outputs": [],
      "source": [
        "#Define the \"create_invoice\" function\n",
        "def create_invoice():\n",
        "    total_amount_inc_tax = 0\n",
        "    for item, quantity in cart:\n",
        "        price = price_sheet[item]\n",
        "        tax = 0.18 * price\n",
        "        total = (tax + price) * quantity\n",
        "        total_amount_inc_tax += total\n",
        "        print('Item:', item, '\\t', 'Price:' ,price, '\\t', 'Quantity:', quantity, '\\t', 'Tax:', tax, 'Total:', total)\n",
        "    print('After the taxes are applied the total amount is: ', total_amount_inc_tax)\n",
        "    return total_amount_inc_tax"
      ]
    },
    {
      "cell_type": "code",
      "execution_count": 53,
      "metadata": {
        "id": "iUlKiXgMGdIk"
      },
      "outputs": [],
      "source": [
        "#Define the \"checkout\" function\n",
        "def checkout():\n",
        "    global limit\n",
        "    total_amount = create_invoice()\n",
        "    if limit == 0:\n",
        "        print(\"You don't have any budget\")\n",
        "    elif total_amount > limit:\n",
        "        print(\"The amount you have to pay is above the spending limit. You have to drop some items.\")\n",
        "    else:\n",
        "        limit -= total_amount\n",
        "        print(f\"The total amount you've paid is {total_amount} You have {int(limit)} dollars left.\")"
      ]
    },
    {
      "cell_type": "markdown",
      "metadata": {
        "id": "2IFUlu0yB0In"
      },
      "source": [
        "Let's shop!"
      ]
    },
    {
      "cell_type": "code",
      "execution_count": 54,
      "metadata": {
        "id": "FDO7CRJTWPg7"
      },
      "outputs": [
        {
          "name": "stdout",
          "output_type": "stream",
          "text": [
            "Item: Laptop \t Price: 1500 \t Quantity: 1 \t Tax: 270.0 Total: 1770.0\n",
            "Item: Headset \t Price: 100 \t Quantity: 3 \t Tax: 18.0 Total: 354.0\n",
            "Item: Second monitor \t Price: 200 \t Quantity: 2 \t Tax: 36.0 Total: 472.0\n",
            "Item: Mousepad \t Price: 50 \t Quantity: 2 \t Tax: 9.0 Total: 118.0\n",
            "Item: USB drive \t Price: 70 \t Quantity: 1 \t Tax: 12.6 Total: 82.6\n",
            "Item: External drive \t Price: 250 \t Quantity: 1 \t Tax: 45.0 Total: 295.0\n",
            "After the taxes are applied the total amount is:  3091.6\n",
            "The total amount you've paid is 3091.6 You have 1908 dollars left.\n"
          ]
        }
      ],
      "source": [
        "#Call the \"add_to_cart\" function for each item\n",
        " \n",
        "#Add first item to cart\n",
        "add_to_cart(\"Laptop\", 1)\n",
        " \n",
        "#Add second item to cart\n",
        "add_to_cart(\"Headset\", 3)\n",
        " \n",
        "#Add third item to cart\n",
        "add_to_cart(\"Second monitor\", 2)\n",
        " \n",
        "#Add fourth item to cart\n",
        "add_to_cart(\"Mousepad\", 2)\n",
        " \n",
        "#Add fifth item to cart\n",
        "add_to_cart(\"USB drive\", 1)\n",
        " \n",
        "#Add last item to cart\n",
        "add_to_cart(\"External drive\", 1)\n",
        " \n",
        "#Call the create \"checkout\" function to pay for all your items \n",
        "checkout()"
      ]
    },
    {
      "cell_type": "markdown",
      "metadata": {
        "id": "ZL-r2x_xKixg"
      },
      "source": [
        "###Game Night\n",
        "\n",
        "You are back at the office and the HR department organizes a welcome party for new employees. \n",
        "\n",
        "You decide to create a Rock-Paper-Scissor game. \n",
        "\n",
        "📌 Create a Rock-Paper-Scissor game in which the user plays against the computer. The player will choose one of the actions, and the computer will choose its action randomly.\n"
      ]
    },
    {
      "cell_type": "code",
      "execution_count": 55,
      "metadata": {
        "id": "qzD5pxBTgcFb"
      },
      "outputs": [],
      "source": [
        "#Import the random library\n",
        "import random"
      ]
    },
    {
      "cell_type": "code",
      "execution_count": 56,
      "metadata": {
        "id": "oJv-ihLAgcRo"
      },
      "outputs": [],
      "source": [
        "#create a list containing the three actions of the game.\n",
        "action_list = [\"rock\", \"paper\", \"scissors\"]"
      ]
    },
    {
      "cell_type": "code",
      "execution_count": 57,
      "metadata": {
        "id": "DNUa_9afWqMd"
      },
      "outputs": [
        {
          "name": "stdout",
          "output_type": "stream",
          "text": [
            "Round number:  1\n",
            "Computer choice:  scissors\n",
            "Player choice:  \n",
            "Player wins!\n"
          ]
        },
        {
          "ename": "ValueError",
          "evalue": "invalid literal for int() with base 10: ''",
          "output_type": "error",
          "traceback": [
            "\u001b[1;31m---------------------------------------------------------------------------\u001b[0m",
            "\u001b[1;31mValueError\u001b[0m                                Traceback (most recent call last)",
            "Cell \u001b[1;32mIn [57], line 57\u001b[0m\n\u001b[0;32m     53\u001b[0m       player_score \u001b[38;5;241m+\u001b[39m\u001b[38;5;241m=\u001b[39m \u001b[38;5;241m1\u001b[39m\n\u001b[0;32m     56\u001b[0m   \u001b[38;5;66;03m#Stop the while loop if the round_counter equals the number of total rounds\u001b[39;00m\n\u001b[1;32m---> 57\u001b[0m   \u001b[38;5;28;01mif\u001b[39;00m round_counter \u001b[38;5;241m==\u001b[39m \u001b[38;5;28;43mint\u001b[39;49m\u001b[43m(\u001b[49m\u001b[43mtotal_rounds\u001b[49m\u001b[43m)\u001b[49m:\n\u001b[0;32m     58\u001b[0m     \u001b[38;5;28;01mbreak\u001b[39;00m\n\u001b[0;32m     60\u001b[0m \u001b[38;5;66;03m#Print the outcome of the game by using conditional statements\u001b[39;00m\n",
            "\u001b[1;31mValueError\u001b[0m: invalid literal for int() with base 10: ''"
          ]
        }
      ],
      "source": [
        "#Set the scores of players to 0\n",
        "computer_score = 0\n",
        "player_score = 0\n",
        "\n",
        "#Ask the user how many rounds they want to play\n",
        "total_rounds = input(\"How many rounds do you want to play? Please enter a number here: \")\n",
        "\n",
        "#Add a round_counter that is 0 at the beginning\n",
        "round_counter = 0\n",
        "\n",
        "#Write a while loop and put the game inside\n",
        "while True:\n",
        "\n",
        "  #Increase round_counter by and print it\n",
        "  round_counter += 1\n",
        "  print(\"Round number: \", round_counter)\n",
        "  \n",
        "  #Select a random action for computer\n",
        "  computer_choice = random.choice(action_list)\n",
        "\n",
        "  #Ask player to choose an action\n",
        "  player_choice = input(\"Please choose your action: \")\n",
        "\n",
        "  #Print the players choices\n",
        "  print(\"Computer choice: \", computer_choice)\n",
        "  print(\"Player choice: \", player_choice)\n",
        "\n",
        "  #tie condition\n",
        "  if computer_choice == player_choice:\n",
        "    print(\"It's a tie!\")\n",
        "  \n",
        "  #Remaining conditions\n",
        "  elif computer_choice == 'paper':\n",
        "    if player_choice == 'rock':\n",
        "      print(\"Computer wins!\")\n",
        "      computer_score += 1\n",
        "    else:\n",
        "      print(\"Player wins!\")\n",
        "      player_score += 1\n",
        "  elif computer_choice == 'rock':\n",
        "    if player_choice == 'scissors':\n",
        "      print(\"Computer wins!\")\n",
        "      computer_score += 1\n",
        "    else:\n",
        "      print(\"Player wins!\")\n",
        "      player_score += 1\n",
        "  elif computer_choice == 'scissors':\n",
        "    if player_choice == 'paper':\n",
        "      print(\"Computer wins!\")\n",
        "      computer_score += 1\n",
        "    else:\n",
        "      print(\"Player wins!\")\n",
        "      player_score += 1\n",
        "\n",
        "\n",
        "  #Stop the while loop if the round_counter equals the number of total rounds\n",
        "  if round_counter == int(total_rounds):\n",
        "    break\n",
        "\n",
        "#Print the outcome of the game by using conditional statements\n",
        "if computer_score > player_score:\n",
        "  print(\"Computer wins!\")\n",
        "elif computer_score < player_score: \n",
        "  print(\"Player wins!\")\n",
        "else:\n",
        "  print(\"It's a tie!\" , computer_score, \":\", player_score)\n"
      ]
    },
    {
      "cell_type": "markdown",
      "metadata": {
        "id": "jdrYN0Xgp-D6"
      },
      "source": [
        "# Your first task \n",
        "\n",
        "Rachel asks you to write a program to track the name and revenue each employee brings.  \n",
        "\n",
        "* Create the \"salesperson_revenue\" dictionary to see the employee name as a key and the revenue as a value.\n",
        "\n",
        "  📌 Every employee starts with 0 revenue.\n",
        "* Define the \"enter_revenue\" function. \n",
        "\n",
        "  📌 The function takes the name and revenue as an argument and updates the salesperson_revenue dictionary.\n"
      ]
    },
    {
      "cell_type": "code",
      "execution_count": null,
      "metadata": {
        "id": "3vzRo7hyMRv2"
      },
      "outputs": [],
      "source": [
        "#Create salesperson_revenue dictionary\n",
        "\n",
        "salesperson_revenue = {\n",
        "    \"Ben\": 0,\n",
        "    'Omer': 0,\n",
        "    'Keren': 0,\n",
        "    'Celine': 0,\n",
        "    'Sue': 0,\n",
        "    'Bora': 0,\n",
        "    'Rose': 0,\n",
        "    'Ellen': 0,\n",
        "}"
      ]
    },
    {
      "cell_type": "code",
      "execution_count": null,
      "metadata": {
        "id": "m-8IozBwMRzM"
      },
      "outputs": [],
      "source": [
        "#Define enter_revenue function\n",
        "def enter_revenue(name, revenue):\n",
        "    global salesperson_revenue\n",
        "    salesperson_revenue[name] += revenue\n"
      ]
    },
    {
      "cell_type": "markdown",
      "metadata": {
        "id": "UnTGSoNTi58u"
      },
      "source": [
        "####Try out the functions\n",
        "* In a while loop ask the user to give the name of the employee and for the revenue \n",
        "\n",
        "  📌 If the user enters “quit” the loop should break.\n",
        "\n",
        "After that, print out the salesperson_revenue dictionary.\n"
      ]
    },
    {
      "cell_type": "code",
      "execution_count": null,
      "metadata": {
        "id": "2E549VvFXNi6"
      },
      "outputs": [
        {
          "name": "stdout",
          "output_type": "stream",
          "text": [
            "Ben's revenue is 200\n",
            "Bora's revenue is 300\n"
          ]
        }
      ],
      "source": [
        "#Asking user employee name as input\n",
        "while True:\n",
        "    name = input('Employee name: ')\n",
        "    if name == 'quit':\n",
        "        break\n",
        "    revenue = int(input('Enter revenue: '))\n",
        "    enter_revenue(name, revenue)\n",
        "    print(f\"{name}'s revenue is {salesperson_revenue[name]}\")"
      ]
    },
    {
      "cell_type": "code",
      "execution_count": null,
      "metadata": {
        "id": "OAvl9rgOXPe6"
      },
      "outputs": [
        {
          "name": "stdout",
          "output_type": "stream",
          "text": [
            "{'Ben': 200, 'Omer': 0, 'Keren': 0, 'Celine': 0, 'Sue': 0, 'Bora': 300, 'Rose': 0, 'Ellen': 0}\n"
          ]
        }
      ],
      "source": [
        "#Print the salesperson_revenue dictionary\n",
        "print(salesperson_revenue)"
      ]
    }
  ],
  "metadata": {
    "colab": {
      "collapsed_sections": [],
      "name": "Guided_project_1.ipynb",
      "provenance": []
    },
    "kernelspec": {
      "display_name": "Python 3.10.4 64-bit",
      "language": "python",
      "name": "python3"
    },
    "language_info": {
      "codemirror_mode": {
        "name": "ipython",
        "version": 3
      },
      "file_extension": ".py",
      "mimetype": "text/x-python",
      "name": "python",
      "nbconvert_exporter": "python",
      "pygments_lexer": "ipython3",
      "version": "3.10.4"
    },
    "orig_nbformat": 4,
    "vscode": {
      "interpreter": {
        "hash": "4e0347718afc69be7b1c23768afdbedb062dd9a48333758dd9b559c5248491fc"
      }
    }
  },
  "nbformat": 4,
  "nbformat_minor": 0
}
