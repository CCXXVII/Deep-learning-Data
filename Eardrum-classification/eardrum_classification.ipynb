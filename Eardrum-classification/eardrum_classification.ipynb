{
 "cells": [
  {
   "cell_type": "code",
   "execution_count": 191,
   "metadata": {},
   "outputs": [],
   "source": [
    "import tensorflow as tf\n",
    "import numpy as np\n",
    "import matplotlib.pyplot as plt\n",
    "from sklearn.model_selection import train_test_split\n",
    "import os\n",
    "import random\n",
    "import cv2\n",
    "import pickle"
   ]
  },
  {
   "cell_type": "code",
   "execution_count": 192,
   "metadata": {},
   "outputs": [
    {
     "name": "stdout",
     "output_type": "stream",
     "text": [
      "Processed: 955 | Erros: 0"
     ]
    }
   ],
   "source": [
    "images = []\n",
    "number_of_errors = 0\n",
    "number_of_processed = 0\n",
    "\n",
    "\n",
    "dir = \"S:\\Downloads\\data sets\\eardrumDs\\eardrumDs\"\n",
    "\n",
    "for class_name in os.listdir(dir):\n",
    "    path_to_class = dir + \"/\" + class_name\n",
    "    for image in os.listdir(path_to_class):\n",
    "        \n",
    "        \n",
    "        try:\n",
    "            path_to_image = f\"{path_to_class}/{image}\"\n",
    "\n",
    "            img = cv2.imread(path_to_image, 0)\n",
    "            img = cv2.resize(img, (128,128))\n",
    "            img = img/255\n",
    "            images.append([img, int(class_name)])\n",
    "            number_of_processed += 1\n",
    "        except:\n",
    "            number_of_errors += 1\n",
    "        print(f\"\\rProcessed: {number_of_processed} | Erros: {number_of_errors}\", end=\"\")"
   ]
  },
  {
   "cell_type": "code",
   "execution_count": 193,
   "metadata": {},
   "outputs": [
    {
     "data": {
      "text/plain": [
       "955"
      ]
     },
     "execution_count": 193,
     "metadata": {},
     "output_type": "execute_result"
    }
   ],
   "source": [
    "len(images)"
   ]
  },
  {
   "cell_type": "code",
   "execution_count": 194,
   "metadata": {},
   "outputs": [],
   "source": [
    "for _ in range(27):\n",
    "    random.shuffle(images)"
   ]
  },
  {
   "cell_type": "code",
   "execution_count": 195,
   "metadata": {},
   "outputs": [],
   "source": [
    "X = []\n",
    "y = []\n",
    "\n",
    "for image, idx in images:\n",
    "    X.append(image)\n",
    "    y.append(idx)"
   ]
  },
  {
   "cell_type": "code",
   "execution_count": 196,
   "metadata": {},
   "outputs": [
    {
     "name": "stdout",
     "output_type": "stream",
     "text": [
      "955\n",
      "955\n"
     ]
    }
   ],
   "source": [
    "print(len(X))\n",
    "print(len(y))"
   ]
  },
  {
   "cell_type": "code",
   "execution_count": 197,
   "metadata": {},
   "outputs": [],
   "source": [
    "X_train = []\n",
    "y_train = []\n",
    "\n",
    "X_val = []\n",
    "y_val = []\n",
    "\n",
    "X_test = []\n",
    "y_test = []"
   ]
  },
  {
   "cell_type": "code",
   "execution_count": 198,
   "metadata": {},
   "outputs": [],
   "source": [
    "X_train = X[:600]\n",
    "y_train = y[:600]\n",
    "\n",
    "X_val = X[600:777]\n",
    "y_val = y[600:777]\n",
    "\n",
    "X_test = X[777:]\n",
    "y_test = y[777:]"
   ]
  },
  {
   "cell_type": "code",
   "execution_count": 199,
   "metadata": {},
   "outputs": [
    {
     "name": "stdout",
     "output_type": "stream",
     "text": [
      "600\n",
      "600\n",
      "177\n",
      "177\n",
      "178\n",
      "178\n"
     ]
    }
   ],
   "source": [
    "print(len(X_train))\n",
    "print(len(y_train))\n",
    "print(len(X_val))\n",
    "print(len(y_val))\n",
    "print(len(X_test))\n",
    "print(len(y_test))"
   ]
  },
  {
   "cell_type": "code",
   "execution_count": 200,
   "metadata": {},
   "outputs": [],
   "source": [
    "X_train = np.array(X_train)\n",
    "y_train = np.array(y_train)\n",
    "\n",
    "X_val = np.array(X_val)\n",
    "y_val = np.array(y_val)\n",
    "\n",
    "X_test = np.array(X_test)\n",
    "y_test = np.array(y_test)"
   ]
  },
  {
   "cell_type": "code",
   "execution_count": 201,
   "metadata": {},
   "outputs": [],
   "source": [
    "X_train = X_train.reshape(-1, 128, 128, 1) \n",
    "X_val = X_val.reshape(-1, 128, 128, 1) \n",
    "X_test = X_test.reshape(-1, 128, 128, 1) "
   ]
  },
  {
   "cell_type": "code",
   "execution_count": 202,
   "metadata": {},
   "outputs": [],
   "source": [
    "if \"pickles\" not in os.listdir():\n",
    "    os.mkdir(\"pickles\")\n",
    "\n",
    "with open(\"pickles/X_train.pickle\", \"wb\") as f:\n",
    "  pickle.dump(X_train, f)  \n",
    "with open(\"pickles/y_train.pickle\", \"wb\") as f:\n",
    "  pickle.dump(y_train, f)\n",
    "\n",
    "with open(\"pickles/X_val.pickle\", \"wb\") as f:\n",
    "  pickle.dump(X_val, f)  \n",
    "with open(\"pickles/y_val.pickle\", \"wb\") as f:\n",
    "  pickle.dump(y_val, f)\n",
    "\n",
    "with open(\"pickles/X_test.pickle\", \"wb\") as f:\n",
    "  pickle.dump(X_test, f)  \n",
    "with open(\"pickles/y_test.pickle\", \"wb\") as f:\n",
    "  pickle.dump(y_test, f)\n",
    "  "
   ]
  },
  {
   "cell_type": "code",
   "execution_count": 203,
   "metadata": {},
   "outputs": [],
   "source": [
    "# Model\n",
    "model = tf.keras.Sequential()\n",
    "\n",
    "# Feature Extraction\n",
    "model.add(tf.keras.layers.Conv2D(32, kernel_size=(3,3), strides=(2,2), padding=\"same\", input_shape=(128, 128, 1)))\n",
    "model.add(tf.keras.layers.MaxPool2D(pool_size=(2,2), strides=(2,2)))\n",
    "\n",
    "model.add(tf.keras.layers.Conv2D(64, kernel_size=(3,3), strides=(2,2), padding=\"same\", activation=\"relu\"))\n",
    "model.add(tf.keras.layers.MaxPool2D(pool_size=(2,2), strides=(2,2)))\n",
    "model.add(tf.keras.layers.Conv2D(128, kernel_size=(3,3), strides=(2,2), padding=\"same\", activation=\"relu\"))\n",
    "model.add(tf.keras.layers.MaxPool2D(pool_size=(2,2), strides=(2,2)))\n",
    "\n",
    "# Flatten\n",
    "model.add(tf.keras.layers.Flatten())\n",
    "\n",
    "# Classification\n",
    "model.add(tf.keras.layers.Dense(64, activation=\"relu\"))\n",
    "model.add(tf.keras.layers.Dropout(0.5))\n",
    "model.add(tf.keras.layers.Dense(128, activation=\"relu\"))\n",
    "model.add(tf.keras.layers.Dropout(0.5))\n",
    "model.add(tf.keras.layers.Dense(256, activation=\"relu\"))\n",
    "model.add(tf.keras.layers.Dropout(0.5))\n",
    "model.add(tf.keras.layers.Dense(512, activation=\"relu\"))\n",
    "model.add(tf.keras.layers.Dropout(0.5))\n",
    "\n",
    "# Output Layer\n",
    "model.add(tf.keras.layers.Dense(9, activation=\"softmax\"))"
   ]
  },
  {
   "cell_type": "code",
   "execution_count": 204,
   "metadata": {},
   "outputs": [],
   "source": [
    "model.compile(optimizer='adam', loss=\"sparse_categorical_crossentropy\", metrics=['accuracy'])"
   ]
  },
  {
   "cell_type": "code",
   "execution_count": 205,
   "metadata": {},
   "outputs": [
    {
     "name": "stdout",
     "output_type": "stream",
     "text": [
      "Epoch 1/50\n",
      "19/19 [==============================] - 2s 55ms/step - loss: 1.6979 - accuracy: 0.5133 - val_loss: 1.6126 - val_accuracy: 0.5424\n",
      "Epoch 2/50\n",
      "19/19 [==============================] - 1s 51ms/step - loss: 1.4944 - accuracy: 0.5483 - val_loss: 1.6968 - val_accuracy: 0.5424\n",
      "Epoch 3/50\n",
      "19/19 [==============================] - 1s 42ms/step - loss: 1.5251 - accuracy: 0.5517 - val_loss: 1.5871 - val_accuracy: 0.5424\n",
      "Epoch 4/50\n",
      "19/19 [==============================] - 1s 43ms/step - loss: 1.4756 - accuracy: 0.5517 - val_loss: 1.5254 - val_accuracy: 0.5424\n",
      "Epoch 5/50\n",
      "19/19 [==============================] - 1s 46ms/step - loss: 1.4913 - accuracy: 0.5517 - val_loss: 1.5215 - val_accuracy: 0.5424\n",
      "Epoch 6/50\n",
      "19/19 [==============================] - 1s 39ms/step - loss: 1.4814 - accuracy: 0.5517 - val_loss: 1.5742 - val_accuracy: 0.5424\n",
      "Epoch 7/50\n",
      "19/19 [==============================] - 1s 39ms/step - loss: 1.5080 - accuracy: 0.5517 - val_loss: 1.5288 - val_accuracy: 0.5424\n",
      "Epoch 8/50\n",
      "19/19 [==============================] - 1s 49ms/step - loss: 1.4721 - accuracy: 0.5517 - val_loss: 1.4956 - val_accuracy: 0.5424\n",
      "Epoch 9/50\n",
      "19/19 [==============================] - 1s 40ms/step - loss: 1.4528 - accuracy: 0.5517 - val_loss: 1.4484 - val_accuracy: 0.5424\n",
      "Epoch 10/50\n",
      "19/19 [==============================] - 1s 39ms/step - loss: 1.4513 - accuracy: 0.5517 - val_loss: 1.4700 - val_accuracy: 0.5424\n",
      "Epoch 11/50\n",
      "19/19 [==============================] - 1s 40ms/step - loss: 1.4547 - accuracy: 0.5517 - val_loss: 1.4544 - val_accuracy: 0.5424\n",
      "Epoch 12/50\n",
      "19/19 [==============================] - 1s 40ms/step - loss: 1.4540 - accuracy: 0.5517 - val_loss: 1.4471 - val_accuracy: 0.5424\n",
      "Epoch 13/50\n",
      "19/19 [==============================] - 1s 50ms/step - loss: 1.4492 - accuracy: 0.5517 - val_loss: 1.4625 - val_accuracy: 0.5424\n",
      "Epoch 14/50\n",
      "19/19 [==============================] - 1s 42ms/step - loss: 1.4421 - accuracy: 0.5517 - val_loss: 1.4531 - val_accuracy: 0.5424\n",
      "Epoch 15/50\n",
      "19/19 [==============================] - 1s 44ms/step - loss: 1.4612 - accuracy: 0.5517 - val_loss: 1.4624 - val_accuracy: 0.5424\n",
      "Epoch 16/50\n",
      "19/19 [==============================] - 1s 42ms/step - loss: 1.4350 - accuracy: 0.5517 - val_loss: 1.4535 - val_accuracy: 0.5424\n",
      "Epoch 17/50\n",
      "19/19 [==============================] - 1s 45ms/step - loss: 1.4416 - accuracy: 0.5517 - val_loss: 1.4627 - val_accuracy: 0.5424\n",
      "Epoch 18/50\n",
      "19/19 [==============================] - 1s 51ms/step - loss: 1.4408 - accuracy: 0.5517 - val_loss: 1.4716 - val_accuracy: 0.5424\n",
      "Epoch 19/50\n",
      "19/19 [==============================] - 1s 50ms/step - loss: 1.4366 - accuracy: 0.5517 - val_loss: 1.4452 - val_accuracy: 0.5424\n",
      "Epoch 20/50\n",
      "19/19 [==============================] - 1s 53ms/step - loss: 1.4383 - accuracy: 0.5517 - val_loss: 1.4416 - val_accuracy: 0.5424\n",
      "Epoch 21/50\n",
      "19/19 [==============================] - 1s 47ms/step - loss: 1.4193 - accuracy: 0.5517 - val_loss: 1.4340 - val_accuracy: 0.5424\n",
      "Epoch 22/50\n",
      "19/19 [==============================] - 1s 49ms/step - loss: 1.4300 - accuracy: 0.5517 - val_loss: 1.4537 - val_accuracy: 0.5424\n",
      "Epoch 23/50\n",
      "19/19 [==============================] - 1s 43ms/step - loss: 1.4377 - accuracy: 0.5517 - val_loss: 1.4604 - val_accuracy: 0.5424\n",
      "Epoch 24/50\n",
      "19/19 [==============================] - 1s 39ms/step - loss: 1.4295 - accuracy: 0.5517 - val_loss: 1.4423 - val_accuracy: 0.5424\n",
      "Epoch 25/50\n",
      "19/19 [==============================] - 1s 39ms/step - loss: 1.4370 - accuracy: 0.5517 - val_loss: 1.4328 - val_accuracy: 0.5424\n",
      "Epoch 26/50\n",
      "19/19 [==============================] - 1s 38ms/step - loss: 1.4291 - accuracy: 0.5517 - val_loss: 1.4639 - val_accuracy: 0.5424\n",
      "Epoch 27/50\n",
      "19/19 [==============================] - 1s 40ms/step - loss: 1.4225 - accuracy: 0.5517 - val_loss: 1.4248 - val_accuracy: 0.5424\n",
      "Epoch 28/50\n",
      "19/19 [==============================] - 1s 39ms/step - loss: 1.4289 - accuracy: 0.5517 - val_loss: 1.4499 - val_accuracy: 0.5424\n",
      "Epoch 29/50\n",
      "19/19 [==============================] - 1s 39ms/step - loss: 1.4288 - accuracy: 0.5517 - val_loss: 1.4280 - val_accuracy: 0.5424\n",
      "Epoch 30/50\n",
      "19/19 [==============================] - 1s 39ms/step - loss: 1.4282 - accuracy: 0.5517 - val_loss: 1.4345 - val_accuracy: 0.5424\n",
      "Epoch 31/50\n",
      "19/19 [==============================] - 1s 39ms/step - loss: 1.4216 - accuracy: 0.5517 - val_loss: 1.4259 - val_accuracy: 0.5424\n",
      "Epoch 32/50\n",
      "19/19 [==============================] - 1s 39ms/step - loss: 1.4196 - accuracy: 0.5517 - val_loss: 1.4147 - val_accuracy: 0.5424\n",
      "Epoch 33/50\n",
      "19/19 [==============================] - 1s 39ms/step - loss: 1.4043 - accuracy: 0.5517 - val_loss: 1.4068 - val_accuracy: 0.5424\n",
      "Epoch 34/50\n",
      "19/19 [==============================] - 1s 38ms/step - loss: 1.3951 - accuracy: 0.5517 - val_loss: 1.4023 - val_accuracy: 0.5424\n",
      "Epoch 35/50\n",
      "19/19 [==============================] - 1s 39ms/step - loss: 1.3836 - accuracy: 0.5517 - val_loss: 1.4182 - val_accuracy: 0.5424\n",
      "Epoch 36/50\n",
      "19/19 [==============================] - 1s 39ms/step - loss: 1.3815 - accuracy: 0.5517 - val_loss: 1.4157 - val_accuracy: 0.5424\n",
      "Epoch 37/50\n",
      "19/19 [==============================] - 1s 38ms/step - loss: 1.3844 - accuracy: 0.5517 - val_loss: 1.3909 - val_accuracy: 0.5424\n",
      "Epoch 38/50\n",
      "19/19 [==============================] - 1s 38ms/step - loss: 1.3571 - accuracy: 0.5517 - val_loss: 1.4023 - val_accuracy: 0.5424\n",
      "Epoch 39/50\n",
      "19/19 [==============================] - 1s 39ms/step - loss: 1.3399 - accuracy: 0.5517 - val_loss: 1.3951 - val_accuracy: 0.5424\n",
      "Epoch 40/50\n",
      "19/19 [==============================] - 1s 39ms/step - loss: 1.3937 - accuracy: 0.5500 - val_loss: 1.4022 - val_accuracy: 0.5424\n",
      "Epoch 41/50\n",
      "19/19 [==============================] - 1s 40ms/step - loss: 1.3466 - accuracy: 0.5500 - val_loss: 1.3801 - val_accuracy: 0.5424\n",
      "Epoch 42/50\n",
      "19/19 [==============================] - 1s 46ms/step - loss: 1.3096 - accuracy: 0.5567 - val_loss: 1.4076 - val_accuracy: 0.5424\n",
      "Epoch 43/50\n",
      "19/19 [==============================] - 1s 43ms/step - loss: 1.3434 - accuracy: 0.5550 - val_loss: 1.4264 - val_accuracy: 0.4972\n",
      "Epoch 44/50\n",
      "19/19 [==============================] - 1s 39ms/step - loss: 1.3216 - accuracy: 0.5600 - val_loss: 1.4281 - val_accuracy: 0.5311\n",
      "Epoch 45/50\n",
      "19/19 [==============================] - 1s 39ms/step - loss: 1.3133 - accuracy: 0.5617 - val_loss: 1.4112 - val_accuracy: 0.5537\n",
      "Epoch 46/50\n",
      "19/19 [==============================] - 1s 39ms/step - loss: 1.3152 - accuracy: 0.5517 - val_loss: 1.3938 - val_accuracy: 0.5367\n",
      "Epoch 47/50\n",
      "19/19 [==============================] - 1s 44ms/step - loss: 1.2913 - accuracy: 0.5633 - val_loss: 1.4398 - val_accuracy: 0.5593\n",
      "Epoch 48/50\n",
      "19/19 [==============================] - 1s 39ms/step - loss: 1.3087 - accuracy: 0.5633 - val_loss: 1.4405 - val_accuracy: 0.5085\n",
      "Epoch 49/50\n",
      "19/19 [==============================] - 1s 39ms/step - loss: 1.2832 - accuracy: 0.5717 - val_loss: 1.3741 - val_accuracy: 0.5537\n",
      "Epoch 50/50\n",
      "19/19 [==============================] - 1s 39ms/step - loss: 1.2857 - accuracy: 0.6117 - val_loss: 1.4513 - val_accuracy: 0.5028\n"
     ]
    }
   ],
   "source": [
    "history = model.fit(X_train, y_train, epochs=50, validation_data=(X_val, y_val))"
   ]
  },
  {
   "cell_type": "code",
   "execution_count": 206,
   "metadata": {},
   "outputs": [
    {
     "name": "stdout",
     "output_type": "stream",
     "text": [
      "6/6 [==============================] - 0s 12ms/step - loss: 1.4990 - accuracy: 0.4551\n",
      "Loss: 1.4990124702453613 - Accuracy: 0.45505619049072266\n"
     ]
    }
   ],
   "source": [
    "result = model.evaluate(X_test, y_test)\n",
    "print(f\"Loss: {result[0]} - Accuracy: {result[1]}\")"
   ]
  },
  {
   "cell_type": "code",
   "execution_count": 207,
   "metadata": {},
   "outputs": [
    {
     "data": {
      "image/png": "[encoded data removed]",
      "text/plain": [
       "<Figure size 640x480 with 1 Axes>"
      ]
     },
     "metadata": {},
     "output_type": "display_data"
    }
   ],
   "source": [
    "plt.plot(history.history[\"loss\"], label=\"Train\")\n",
    "plt.plot(history.history[\"val_loss\"], label=\"Validation\")\n",
    "\n",
    "plt.xlabel(\"Epoch\")\n",
    "plt.ylabel(\"Loss\")\n",
    "\n",
    "plt.legend()\n",
    "plt.show()"
   ]
  },
  {
   "cell_type": "code",
   "execution_count": 208,
   "metadata": {},
   "outputs": [
    {
     "data": {
      "image/png": "[encoded data removed]",
      "text/plain": [
       "<Figure size 640x480 with 1 Axes>"
      ]
     },
     "metadata": {},
     "output_type": "display_data"
    }
   ],
   "source": [
    "plt.plot(history.history[\"accuracy\"], label=\"Train\")\n",
    "plt.plot(history.history[\"val_accuracy\"], label=\"Validation\")\n",
    "\n",
    "plt.xlabel(\"Epoch\")\n",
    "plt.ylabel(\"Accuracy\")\n",
    "\n",
    "plt.legend()\n",
    "plt.show()"
   ]
  },
  {
   "cell_type": "code",
   "execution_count": 209,
   "metadata": {},
   "outputs": [
    {
     "name": "stdout",
     "output_type": "stream",
     "text": [
      "6/6 [==============================] - 0s 10ms/step - loss: 1.4990 - accuracy: 0.4551\n"
     ]
    },
    {
     "data": {
      "text/plain": [
       "[1.4990124702453613, 0.45505619049072266]"
      ]
     },
     "execution_count": 209,
     "metadata": {},
     "output_type": "execute_result"
    }
   ],
   "source": [
    "model.evaluate(X_test, y_test)"
   ]
  },
  {
   "cell_type": "code",
   "execution_count": 210,
   "metadata": {},
   "outputs": [
    {
     "name": "stdout",
     "output_type": "stream",
     "text": [
      "WARNING:tensorflow:5 out of the last 11 calls to <function Model.make_predict_function.<locals>.predict_function at 0x000002A1BC3F1510> triggered tf.function retracing. Tracing is expensive and the excessive number of tracings could be due to (1) creating @tf.function repeatedly in a loop, (2) passing tensors with different shapes, (3) passing Python objects instead of tensors. For (1), please define your @tf.function outside of the loop. For (2), @tf.function has reduce_retracing=True option that can avoid unnecessary retracing. For (3), please refer to https://www.tensorflow.org/guide/function#controlling_retracing and https://www.tensorflow.org/api_docs/python/tf/function for  more details.\n",
      "1/1 [==============================] - 0s 76ms/step\n"
     ]
    },
    {
     "data": {
      "text/plain": [
       "array([[0.08270236, 0.08085436, 0.02676444, 0.11905265, 0.00248282,\n",
       "        0.5775418 , 0.0314183 , 0.02358931, 0.05559392]], dtype=float32)"
      ]
     },
     "execution_count": 210,
     "metadata": {},
     "output_type": "execute_result"
    }
   ],
   "source": [
    "# Make prediction on the reshaped sample\n",
    "prediction_result = model.predict(X_test[20].reshape(-1,128,128,1))\n",
    "\n",
    "# Print the prediction result\n",
    "prediction_result"
   ]
  },
  {
   "cell_type": "code",
   "execution_count": 211,
   "metadata": {},
   "outputs": [],
   "source": [
    "# Find the predicted class\n",
    "predicted_class = prediction_result.argmax()\n",
    "# Find the prediction probability\n",
    "predicted_probability = prediction_result.max()"
   ]
  },
  {
   "cell_type": "code",
   "execution_count": 212,
   "metadata": {},
   "outputs": [
    {
     "name": "stdout",
     "output_type": "stream",
     "text": [
      "This image belongs to class 5 with 0.5775418281555176 probability %\n"
     ]
    }
   ],
   "source": [
    "# Print the results\n",
    "print(f\"This image belongs to class {predicted_class} with {predicted_probability} probability %\")"
   ]
  }
 ],
 "metadata": {
  "kernelspec": {
   "display_name": "Python 3.10.4 64-bit",
   "language": "python",
   "name": "python3"
  },
  "language_info": {
   "codemirror_mode": {
    "name": "ipython",
    "version": 3
   },
   "file_extension": ".py",
   "mimetype": "text/x-python",
   "name": "python",
   "nbconvert_exporter": "python",
   "pygments_lexer": "ipython3",
   "version": "3.10.4"
  },
  "orig_nbformat": 4,
  "vscode": {
   "interpreter": {
    "hash": "4e0347718afc69be7b1c23768afdbedb062dd9a48333758dd9b559c5248491fc"
   }
  }
 },
 "nbformat": 4,
 "nbformat_minor": 2
}
