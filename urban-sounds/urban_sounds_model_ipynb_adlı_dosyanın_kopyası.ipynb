{
  "cells": [
    {
      "cell_type": "code",
      "execution_count": 1,
      "metadata": {
        "id": "WGqkPS4wNU1t"
      },
      "outputs": [],
      "source": [
        "import numpy as np\n",
        "import pandas as pd\n",
        "import matplotlib.pyplot as plt\n",
        "import os\n",
        "import glob\n",
        "import tensorflow as tf\n",
        "import urllib.request\n",
        "import tarfile\n",
        "import numpy as np"
      ]
    },
    {
      "cell_type": "code",
      "source": [
        "from google.colab import drive\n",
        "drive.mount('/content/drive')"
      ],
      "metadata": {
        "colab": {
          "base_uri": "https://localhost:8080/"
        },
        "id": "WbwxSBu4jIJL",
        "outputId": "6114cab7-f44b-4726-bd41-d747aba5bee1"
      },
      "execution_count": 2,
      "outputs": [
        {
          "output_type": "stream",
          "name": "stdout",
          "text": [
            "Mounted at /content/drive\n"
          ]
        }
      ]
    },
    {
      "cell_type": "code",
      "execution_count": 3,
      "metadata": {
        "id": "05iukQFtNU1u"
      },
      "outputs": [],
      "source": [
        "# getting back test, train, val npy sets to create a model\n",
        "\n",
        "X_train = pd.read_csv('/content/drive/MyDrive/Colab Notebooks/sets/X_train.txt', header=None)\n",
        "X_test = pd.read_csv('/content/drive/MyDrive/Colab Notebooks/sets/X_test.txt', header=None)\n",
        "X_val = pd.read_csv('/content/drive/MyDrive/Colab Notebooks/sets/X_val.txt', header=None)\n",
        "y_train = pd.read_csv('/content/drive/MyDrive/Colab Notebooks/sets/y_train.txt', header=None)\n",
        "y_test = pd.read_csv('/content/drive/MyDrive/Colab Notebooks/sets/y_test.txt', header=None)\n",
        "y_val = pd.read_csv('/content/drive/MyDrive/Colab Notebooks/sets/y_val.txt', header=None)\n"
      ]
    },
    {
      "cell_type": "code",
      "source": [
        "print(X_train)\n",
        "print(y_train)"
      ],
      "metadata": {
        "id": "J8oq_9sWowSa",
        "colab": {
          "base_uri": "https://localhost:8080/"
        },
        "outputId": "c2508a54-f561-47ef-921f-672c96382593"
      },
      "execution_count": 4,
      "outputs": [
        {
          "output_type": "stream",
          "name": "stdout",
          "text": [
            "                                                      0\n",
            "0     [[0.         0.         0.         ... 0.     ...\n",
            "1     [[0.         0.         0.         ... 0.     ...\n",
            "2     [[0.         0.         0.         ... 0.     ...\n",
            "3     [[0.         0.         0.         ... 0.     ...\n",
            "4     [[0.         0.         0.         ... 0.     ...\n",
            "...                                                 ...\n",
            "6107  [[0.         0.         0.         ... 0.     ...\n",
            "6108  [[0.         0.00784314 0.05882353 ... 0.06666...\n",
            "6109  [[0.         0.         0.         ... 0.     ...\n",
            "6110  [[0.         0.         0.         ... 0.     ...\n",
            "6111  [[0.         0.         0.         ... 0.     ...\n",
            "\n",
            "[6112 rows x 1 columns]\n",
            "                     0\n",
            "0                siren\n",
            "1             gun shot\n",
            "2             drilling\n",
            "3             dog bark\n",
            "4        engine idling\n",
            "...                ...\n",
            "6107     engine idling\n",
            "6108          drilling\n",
            "6109  children playing\n",
            "6110      street music\n",
            "6111             siren\n",
            "\n",
            "[6112 rows x 1 columns]\n"
          ]
        }
      ]
    },
    {
      "cell_type": "code",
      "source": [
        "X_train = np.array(X_train)\n",
        "X_test = np.array(X_test)\n",
        "X_val = np.array(X_val)\n",
        "y_train = np.array(y_train)\n",
        "y_test = np.array(y_test)\n",
        "y_val = np.array(y_val)\n",
        "print(type(X_train))\n",
        "print(X_train[0].shape)"
      ],
      "metadata": {
        "colab": {
          "base_uri": "https://localhost:8080/"
        },
        "id": "uGiGo2_Xnf5T",
        "outputId": "1d2811be-84aa-41b9-e77a-544319896fe2"
      },
      "execution_count": 5,
      "outputs": [
        {
          "output_type": "stream",
          "name": "stdout",
          "text": [
            "<class 'numpy.ndarray'>\n",
            "(1,)\n"
          ]
        }
      ]
    },
    {
      "cell_type": "markdown",
      "metadata": {
        "id": "tnrjk5CCNU1w"
      },
      "source": [
        "Model"
      ]
    },
    {
      "cell_type": "code",
      "execution_count": 6,
      "metadata": {
        "id": "i-LR7lfUNU1w"
      },
      "outputs": [],
      "source": [
        "model= tf.keras.Sequential()\n",
        "model.add(tf.keras.layers.Conv2D(32,kernel_size=5,strides=1,padding=\"Same\",activation=\"relu\",input_shape=(32,32,1)))\n",
        "model.add(tf.keras.layers.MaxPooling2D(padding=\"same\"))\n",
        "\n",
        "model.add(tf.keras.layers.Conv2D(64,kernel_size=5,strides=1,padding=\"same\",activation=\"relu\"))\n",
        "model.add(tf.keras.layers.MaxPooling2D(padding=\"same\"))\n",
        "model.add(tf.keras.layers.Dropout(0.3))\n",
        "\n",
        "model.add(tf.keras.layers.Dense(128,activation=\"relu\"))\n",
        "model.add(tf.keras.layers.Dropout(0.3))\n",
        "\n",
        "model.add(tf.keras.layers.Dense(256,activation=\"relu\"))\n",
        "model.add(tf.keras.layers.Dropout(0.3))\n",
        "\n",
        "model.add(tf.keras.layers.Flatten())\n",
        "model.add(tf.keras.layers.Dense(10,activation=\"softmax\"))\n",
        "\n",
        "\n"
      ]
    },
    {
      "cell_type": "code",
      "source": [
        "model.compile(optimizer=\"adam\",loss=\"categorical_crossentropy\",metrics=[\"accuracy\"])"
      ],
      "metadata": {
        "id": "amJAobREnWl-"
      },
      "execution_count": 7,
      "outputs": []
    },
    {
      "cell_type": "code",
      "source": [
        "#X_train = tf.convert_to_tensor(X_train)"
      ],
      "metadata": {
        "id": "hOW8zIOQn8E_"
      },
      "execution_count": null,
      "outputs": []
    },
    {
      "cell_type": "code",
      "source": [
        "print(X_train.shape)"
      ],
      "metadata": {
        "colab": {
          "base_uri": "https://localhost:8080/"
        },
        "id": "Qj1AYMKBurFt",
        "outputId": "f2ee68aa-fcce-46bb-85c1-bd77c95e906d"
      },
      "execution_count": 8,
      "outputs": [
        {
          "output_type": "stream",
          "name": "stdout",
          "text": [
            "(6112, 1)\n"
          ]
        }
      ]
    },
    {
      "cell_type": "markdown",
      "source": [
        "Shape sorununu çözemedim :((((((((((("
      ],
      "metadata": {
        "id": "d7dr5LQ7z4Gh"
      }
    },
    {
      "cell_type": "code",
      "source": [
        "results = model.fit(X_train,y_train,batch_size=50,epochs=30,validation_data=(X_val,y_val))\n"
      ],
      "metadata": {
        "colab": {
          "base_uri": "https://localhost:8080/",
          "height": 311
        },
        "id": "4w2OoA0snR1x",
        "outputId": "e512ac0a-bcff-43a9-aa78-d6fabc621691"
      },
      "execution_count": null,
      "outputs": [
        {
          "output_type": "error",
          "ename": "RuntimeError",
          "evalue": "ignored",
          "traceback": [
            "\u001b[0;31m---------------------------------------------------------------------------\u001b[0m",
            "\u001b[0;31mRuntimeError\u001b[0m                              Traceback (most recent call last)",
            "\u001b[0;32m<ipython-input-61-181ab3959016>\u001b[0m in \u001b[0;36m<module>\u001b[0;34m\u001b[0m\n\u001b[0;32m----> 1\u001b[0;31m \u001b[0mresults\u001b[0m \u001b[0;34m=\u001b[0m \u001b[0mmodel\u001b[0m\u001b[0;34m.\u001b[0m\u001b[0mfit\u001b[0m\u001b[0;34m(\u001b[0m\u001b[0mX_train\u001b[0m\u001b[0;34m,\u001b[0m\u001b[0my_train\u001b[0m\u001b[0;34m,\u001b[0m\u001b[0mbatch_size\u001b[0m\u001b[0;34m=\u001b[0m\u001b[0;36m50\u001b[0m\u001b[0;34m,\u001b[0m\u001b[0mepochs\u001b[0m\u001b[0;34m=\u001b[0m\u001b[0;36m30\u001b[0m\u001b[0;34m,\u001b[0m\u001b[0mvalidation_data\u001b[0m\u001b[0;34m=\u001b[0m\u001b[0;34m(\u001b[0m\u001b[0mX_val\u001b[0m\u001b[0;34m,\u001b[0m\u001b[0my_val\u001b[0m\u001b[0;34m)\u001b[0m\u001b[0;34m)\u001b[0m\u001b[0;34m\u001b[0m\u001b[0;34m\u001b[0m\u001b[0m\n\u001b[0m",
            "\u001b[0;32m/usr/local/lib/python3.7/dist-packages/keras/utils/traceback_utils.py\u001b[0m in \u001b[0;36merror_handler\u001b[0;34m(*args, **kwargs)\u001b[0m\n\u001b[1;32m     65\u001b[0m     \u001b[0;32mexcept\u001b[0m \u001b[0mException\u001b[0m \u001b[0;32mas\u001b[0m \u001b[0me\u001b[0m\u001b[0;34m:\u001b[0m  \u001b[0;31m# pylint: disable=broad-except\u001b[0m\u001b[0;34m\u001b[0m\u001b[0;34m\u001b[0m\u001b[0m\n\u001b[1;32m     66\u001b[0m       \u001b[0mfiltered_tb\u001b[0m \u001b[0;34m=\u001b[0m \u001b[0m_process_traceback_frames\u001b[0m\u001b[0;34m(\u001b[0m\u001b[0me\u001b[0m\u001b[0;34m.\u001b[0m\u001b[0m__traceback__\u001b[0m\u001b[0;34m)\u001b[0m\u001b[0;34m\u001b[0m\u001b[0;34m\u001b[0m\u001b[0m\n\u001b[0;32m---> 67\u001b[0;31m       \u001b[0;32mraise\u001b[0m \u001b[0me\u001b[0m\u001b[0;34m.\u001b[0m\u001b[0mwith_traceback\u001b[0m\u001b[0;34m(\u001b[0m\u001b[0mfiltered_tb\u001b[0m\u001b[0;34m)\u001b[0m \u001b[0;32mfrom\u001b[0m \u001b[0;32mNone\u001b[0m\u001b[0;34m\u001b[0m\u001b[0;34m\u001b[0m\u001b[0m\n\u001b[0m\u001b[1;32m     68\u001b[0m     \u001b[0;32mfinally\u001b[0m\u001b[0;34m:\u001b[0m\u001b[0;34m\u001b[0m\u001b[0;34m\u001b[0m\u001b[0m\n\u001b[1;32m     69\u001b[0m       \u001b[0;32mdel\u001b[0m \u001b[0mfiltered_tb\u001b[0m\u001b[0;34m\u001b[0m\u001b[0;34m\u001b[0m\u001b[0m\n",
            "\u001b[0;32m/usr/local/lib/python3.7/dist-packages/keras/engine/training.py\u001b[0m in \u001b[0;36m_assert_compile_was_called\u001b[0;34m(self)\u001b[0m\n\u001b[1;32m   3057\u001b[0m     \u001b[0;31m# (i.e. whether the model is built and its inputs/outputs are set).\u001b[0m\u001b[0;34m\u001b[0m\u001b[0;34m\u001b[0m\u001b[0;34m\u001b[0m\u001b[0m\n\u001b[1;32m   3058\u001b[0m     \u001b[0;32mif\u001b[0m \u001b[0;32mnot\u001b[0m \u001b[0mself\u001b[0m\u001b[0;34m.\u001b[0m\u001b[0m_is_compiled\u001b[0m\u001b[0;34m:\u001b[0m\u001b[0;34m\u001b[0m\u001b[0;34m\u001b[0m\u001b[0m\n\u001b[0;32m-> 3059\u001b[0;31m       raise RuntimeError('You must compile your model before '\n\u001b[0m\u001b[1;32m   3060\u001b[0m                          \u001b[0;34m'training/testing. '\u001b[0m\u001b[0;34m\u001b[0m\u001b[0;34m\u001b[0m\u001b[0m\n\u001b[1;32m   3061\u001b[0m                          'Use `model.compile(optimizer, loss)`.')\n",
            "\u001b[0;31mRuntimeError\u001b[0m: You must compile your model before training/testing. Use `model.compile(optimizer, loss)`."
          ]
        }
      ]
    },
    {
      "cell_type": "code",
      "source": [
        "accuracy = results.history[\"accuracy\"]\n",
        "val_accuracy = results.history[\"val_accuracy\"]\n",
        "epochs=range(len(accuracy))\n",
        "\n",
        "plt.plot(epochs, accuracy, \"b\", label=\"Training Acc\")\n",
        "plt.plot(epochs, val_accuracy, \"r\", label=\"Validation Acc\")\n",
        "plt.legend()\n",
        "plt.figure()"
      ],
      "metadata": {
        "id": "2PLp4oyw0Lgs"
      },
      "execution_count": null,
      "outputs": []
    },
    {
      "cell_type": "code",
      "source": [
        "plt.plot(results.history[\"val_loss\"], label = \"val_loss\")\n",
        "plt.plot(results.history[\"loss\"], label = \"loss\")\n",
        "plt.xlabel(\"Epoch\")\n",
        "plt.ylabel(\"Loss\")\n",
        "plt.legend()\n",
        "plt.show()"
      ],
      "metadata": {
        "id": "hxqNCjHB0Yqh"
      },
      "execution_count": null,
      "outputs": []
    }
  ],
  "metadata": {
    "kernelspec": {
      "display_name": "Python 3.10.4 64-bit",
      "language": "python",
      "name": "python3"
    },
    "language_info": {
      "codemirror_mode": {
        "name": "ipython",
        "version": 3
      },
      "file_extension": ".py",
      "mimetype": "text/x-python",
      "name": "python",
      "nbconvert_exporter": "python",
      "pygments_lexer": "ipython3",
      "version": "3.10.4"
    },
    "orig_nbformat": 4,
    "vscode": {
      "interpreter": {
        "hash": "4e0347718afc69be7b1c23768afdbedb062dd9a48333758dd9b559c5248491fc"
      }
    },
    "colab": {
      "provenance": [],
      "collapsed_sections": []
    },
    "accelerator": "GPU"
  },
  "nbformat": 4,
  "nbformat_minor": 0
}